{
  "nbformat": 4,
  "nbformat_minor": 0,
  "metadata": {
    "colab": {
      "provenance": []
    },
    "kernelspec": {
      "name": "python3",
      "display_name": "Python 3"
    },
    "language_info": {
      "name": "python"
    }
  },
  "cells": [
    {
      "cell_type": "code",
      "execution_count": 2,
      "metadata": {
        "colab": {
          "base_uri": "https://localhost:8080/"
        },
        "id": "TCqsgW3Ria3_",
        "outputId": "94a1a23f-71e5-4c98-c93d-8a873dabb842"
      },
      "outputs": [
        {
          "output_type": "stream",
          "name": "stdout",
          "text": [
            "Enter the string :python\n",
            "<class 'list'>\n",
            "['p', 'y', 't', 'h', 'o', 'n']\n",
            "['p', 'y', 'o', 'n']\n",
            "noyp\n"
          ]
        }
      ],
      "source": [
        "# Write a python program for the following:\n",
        "#Input the string “Python” as a list of characters from console, delete at least 2 characters, reversethe resultant string and print it.\n",
        "\n",
        "x = input(\"Enter the string :\")\n",
        "y =list(x.strip())\n",
        "print(type(y))\n",
        "print(y)\n",
        "y.pop(-3)\n",
        "y.pop(-3)\n",
        "print(y)\n",
        "y.reverse()\n",
        "x = ''.join(y)\n",
        "print(x)"
      ]
    },
    {
      "cell_type": "code",
      "source": [
        "#Take two numbers from user and perform at least 4 arithmetic operations on them.\n",
        "\n",
        "a = int(input(\"Enter the first number: \")) # user input1 and typecasting the the entered string into integer\n",
        "b = int(input(\"Enter the second number: \")) # user input2\n",
        "\n",
        "#Printing the result for 4 arithmetic operations\n",
        "print(\"Division: \",a/b) # simple Division\n",
        "print(\"Floor Division: \",a// b) # floor Division\n",
        "print(\"Modulus: \", a % b) # Modulus\n",
        "print(\"Exponentiation: \",a ** b) # Exponentiation"
      ],
      "metadata": {
        "colab": {
          "base_uri": "https://localhost:8080/"
        },
        "id": "oi1IfrtRi-fj",
        "outputId": "2a9b20fc-bcfc-4a0f-98a2-7de788793836"
      },
      "execution_count": 3,
      "outputs": [
        {
          "output_type": "stream",
          "name": "stdout",
          "text": [
            "Enter the first number: 8\n",
            "Enter the second number: 2\n",
            "Division:  4.0\n",
            "Floor Division:  4\n",
            "Modulus:  0\n",
            "Exponentiation:  64\n"
          ]
        }
      ]
    },
    {
      "cell_type": "code",
      "source": [
        "#Write a program that accepts a sentence and replace each occurrence of ‘python’ with ‘pythons’.\n",
        "# declaring a string variable\n",
        "s = input(\"Enter the sentence :\")\n",
        "\n",
        "# replacing string python with pythons\n",
        "s = s.replace('python', 'pythons')\n",
        "print(\"Updated string is : \")\n",
        "print(s)"
      ],
      "metadata": {
        "colab": {
          "base_uri": "https://localhost:8080/"
        },
        "id": "mwla6mBbjTvK",
        "outputId": "9c06782a-974b-4281-c322-a911c5f8bccf"
      },
      "execution_count": 4,
      "outputs": [
        {
          "output_type": "stream",
          "name": "stdout",
          "text": [
            "Enter the sentence :I like to work with python\n",
            "Updated string is : \n",
            "I like to work with pythons\n"
          ]
        }
      ]
    },
    {
      "cell_type": "code",
      "source": [
        "#Use the if statement conditions to write a program to print the letter grade based on an input class score. Use the grading scheme we are using in this class.\n",
        "\n",
        "score = int(input(\"Enter the score of the person: \"))\n",
        "if score >= 90:\n",
        "    print(\"A grade\")\n",
        "elif score >=80:\n",
        "    print(\"B grade\")\n",
        "elif score >=70:\n",
        "    print(\"C grade\")\n",
        "elif score >= 60:\n",
        "    print(\"D grade\")\n",
        "else:\n",
        "    print(\"Fail grade\")"
      ],
      "metadata": {
        "colab": {
          "base_uri": "https://localhost:8080/"
        },
        "id": "cKpPSdaIjiKj",
        "outputId": "a98abcb8-32c3-4ec2-da08-a7afd8d0386d"
      },
      "execution_count": 6,
      "outputs": [
        {
          "output_type": "stream",
          "name": "stdout",
          "text": [
            "Enter the score of the person: 85\n",
            "B grade\n"
          ]
        }
      ]
    }
  ]
}